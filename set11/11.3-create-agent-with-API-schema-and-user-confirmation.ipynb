{
 "cells": [
  {
   "cell_type": "markdown",
   "id": "c55b33be-98be-4c48-99de-99e5e2ec163d",
   "metadata": {},
   "source": [
    "# Create Agent with API Schema and User Confirmation"
   ]
  },
  {
   "cell_type": "markdown",
   "id": "9d7392ac-61be-4b9b-bc7b-f48de8282c7b",
   "metadata": {},
   "source": [
    "In this notebook, we will demonstrate the creation of an agent designed to assist with insurance claims processing. The agent is built to support insurance employees by efficiently handling tasks such as reviewing open claims, retrieving details for specific claims, identifying outstanding claim documents, and sending reminders to policyholders. The agent is capable of managing these tasks individually or as part of a multi-step process, ensuring streamlined operations. Specifically, the agent can:\n",
    "\n",
    "- Retrieve Open Claims\n",
    "- Access Claim Details\n",
    "- Identify Claim Outstanding Documents\n",
    "- Send Claim Reminders (with User Confirmation Enable)\n",
    "\n",
    "Additionally, we will leverage Amazon Bedrock latest capabilities to define functions and incorporate user confirmation before executing grouped actions, further enhancing the agent's reliability and user control."
   ]
  },
  {
   "cell_type": "markdown",
   "id": "3a9b853d",
   "metadata": {},
   "source": [
    "![](../images/architecture_11_3.png)"
   ]
  },
  {
   "cell_type": "markdown",
   "id": "5463f03b-7f8b-4a95-a7c8-0caa46d6ae4b",
   "metadata": {},
   "source": [
    "## Pre-requisites\n",
    "Before starting, let's import the required packages and configure the support variables"
   ]
  },
  {
   "cell_type": "code",
   "execution_count": 1,
   "id": "1b5428e2-37d0-4199-a234-33521ec995ad",
   "metadata": {
    "tags": []
   },
   "outputs": [],
   "source": [
    "import logging\n",
    "import boto3\n",
    "import time\n",
    "import zipfile\n",
    "from io import BytesIO\n",
    "import json\n",
    "import uuid\n",
    "import pprint"
   ]
  },
  {
   "cell_type": "code",
   "execution_count": 2,
   "id": "ea10158d-adb7-463e-ae3e-df72da6e850b",
   "metadata": {
    "tags": []
   },
   "outputs": [],
   "source": [
    "# setting logger\n",
    "logging.basicConfig(format='[%(asctime)s] p%(process)s {%(filename)s:%(lineno)d} %(levelname)s - %(message)s', level=logging.INFO)\n",
    "logger = logging.getLogger(__name__)"
   ]
  },
  {
   "cell_type": "code",
   "execution_count": 3,
   "id": "be67a917-11f8-43a0-a8d5-1b379ec77119",
   "metadata": {
    "tags": []
   },
   "outputs": [],
   "source": [
    "# get boto3 clients for required AWS services\n",
    "sts_client = boto3.client('sts')\n",
    "iam_client = boto3.client('iam')\n",
    "s3_client = boto3.client('s3')\n",
    "lambda_client = boto3.client('lambda')\n",
    "bedrock_agent_client = boto3.client('bedrock-agent')\n",
    "bedrock_agent_runtime_client = boto3.client('bedrock-agent-runtime')"
   ]
  },
  {
   "cell_type": "code",
   "execution_count": 4,
   "id": "acfd85b8-4a47-4da9-bdd6-2ac38c1e3803",
   "metadata": {
    "tags": []
   },
   "outputs": [
    {
     "data": {
      "text/plain": [
       "('us-west-2', '114538913250')"
      ]
     },
     "execution_count": 4,
     "metadata": {},
     "output_type": "execute_result"
    }
   ],
   "source": [
    "session = boto3.session.Session()\n",
    "region = session.region_name\n",
    "account_id = sts_client.get_caller_identity()[\"Account\"]\n",
    "region, account_id"
   ]
  },
  {
   "cell_type": "code",
   "execution_count": 17,
   "id": "6501bd5f-2b77-42d6-9662-6cc5b5b5642b",
   "metadata": {
    "tags": []
   },
   "outputs": [],
   "source": [
    "# Generate random prefix for unique IAM roles, agent name and S3 Bucket and \n",
    "# assign variables\n",
    "suffix = f\"{region}-{account_id}4\"\n",
    "agent_name = \"ins-claims-agent-user-conf\"\n",
    "agent_alias_name = \"workshop-alias\"\n",
    "bucket_name = f'{agent_name}-{suffix}'\n",
    "bucket_key = f'{agent_name}-schema.json'\n",
    "schema_name = 'insurance_claims_agent_openapi_schema.json'\n",
    "schema_arn = f'arn:aws:s3:::{bucket_name}/{bucket_key}'\n",
    "bedrock_agent_bedrock_allow_policy_name = f\"{agent_name}-allow-{suffix}\"\n",
    "bedrock_agent_s3_allow_policy_name = f\"{agent_name}-s3-allow-{suffix}\"\n",
    "lambda_role_name = f'{agent_name}-lambda-role-{suffix}'\n",
    "agent_role_name = f'AmazonBedrockExecutionRoleForAgents_{suffix}'\n",
    "lambda_code_path = \"lambda_function.py\"\n",
    "lambda_name = f'{agent_name}-{suffix}'\n",
    "model_id = \"anthropic.claude-3-sonnet-20240229-v1:0\""
   ]
  },
  {
   "cell_type": "markdown",
   "id": "03c964ba-6f6f-4e4b-a654-b09e54a3cd58",
   "metadata": {},
   "source": [
    "## Create S3 bucket and upload API Schema with the Required Confirmation field enabled\n",
    "\n",
    "Before uploading our Schema file in the OpenAPI standard, it is important to understand the configuration that enables user confirmation prior to API execution. Notice that in the `/notify` path, after the \"responses\" section, we have the field `\"x-requireConfirmation\":\"ENABLED\"`. This is an optional field, and the default setting is `DISABLED`. Enable this field to request confirmation from the user before the action is invoked.\n",
    "\n",
    "For this example, we will enable only the `/notify` path to request user confirmation before it is executed.\n",
    "\n",
    "Now, agents require an API Schema stored on s3. Let's create an S3 bucket to store the file and upload the file to the newly created bucket:"
   ]
  },
  {
   "cell_type": "code",
   "execution_count": 18,
   "id": "70aac712-e1e9-4761-9ed2-92181cb65a11",
   "metadata": {
    "tags": []
   },
   "outputs": [],
   "source": [
    "# Create S3 bucket for Open API schema\n",
    "if region == \"us-east-1\":\n",
    "    s3bucket = s3_client.create_bucket(\n",
    "        Bucket=bucket_name\n",
    "    )\n",
    "else:\n",
    "    s3bucket = s3_client.create_bucket(\n",
    "        Bucket=bucket_name,\n",
    "        CreateBucketConfiguration={ 'LocationConstraint': region } \n",
    "    )"
   ]
  },
  {
   "cell_type": "code",
   "execution_count": 19,
   "id": "159ff709-acdc-4174-9b5a-7fab8e0408df",
   "metadata": {
    "tags": []
   },
   "outputs": [],
   "source": [
    "# Upload Open API schema to this s3 bucket\n",
    "s3_client.upload_file(schema_name, bucket_name, bucket_key)"
   ]
  },
  {
   "cell_type": "markdown",
   "id": "ca46ab2f-f5a3-484b-9720-b3d586f47308",
   "metadata": {},
   "source": [
    "## Create Lambda function for Action Group\n",
    "Let's now create the lambda function required by the agent action group. We first need to create the lambda IAM role and it's policy. After that, we package the lambda function into a ZIP format to create the function"
   ]
  },
  {
   "cell_type": "code",
   "execution_count": 20,
   "id": "55b4269a-9781-4efd-b7c6-9dcb222541ac",
   "metadata": {
    "tags": []
   },
   "outputs": [
    {
     "data": {
      "text/plain": [
       "{'ResponseMetadata': {'RequestId': '5c3589e0-9230-4162-b9e1-e45f41afd77c',\n",
       "  'HTTPStatusCode': 200,\n",
       "  'HTTPHeaders': {'date': 'Fri, 22 Nov 2024 16:41:54 GMT',\n",
       "   'x-amzn-requestid': '5c3589e0-9230-4162-b9e1-e45f41afd77c',\n",
       "   'content-type': 'text/xml',\n",
       "   'content-length': '212'},\n",
       "  'RetryAttempts': 0}}"
      ]
     },
     "execution_count": 20,
     "metadata": {},
     "output_type": "execute_result"
    }
   ],
   "source": [
    "# Create IAM Role for the Lambda function\n",
    "try:\n",
    "    assume_role_policy_document = {\n",
    "        \"Version\": \"2012-10-17\",\n",
    "        \"Statement\": [\n",
    "            {\n",
    "                \"Effect\": \"Allow\",\n",
    "                \"Action\": \"bedrock:InvokeModel\",\n",
    "                \"Principal\": {\n",
    "                    \"Service\": \"lambda.amazonaws.com\"\n",
    "                },\n",
    "                \"Action\": \"sts:AssumeRole\"\n",
    "            }\n",
    "        ]\n",
    "    }\n",
    "\n",
    "    assume_role_policy_document_json = json.dumps(assume_role_policy_document)\n",
    "\n",
    "    lambda_iam_role = iam_client.create_role(\n",
    "        RoleName=lambda_role_name,\n",
    "        AssumeRolePolicyDocument=assume_role_policy_document_json\n",
    "    )\n",
    "\n",
    "    # Pause to make sure role is created\n",
    "    time.sleep(10)\n",
    "except:\n",
    "    lambda_iam_role = iam_client.get_role(RoleName=lambda_role_name)\n",
    "\n",
    "iam_client.attach_role_policy(\n",
    "    RoleName=lambda_role_name,\n",
    "    PolicyArn='arn:aws:iam::aws:policy/service-role/AWSLambdaBasicExecutionRole'\n",
    ")"
   ]
  },
  {
   "cell_type": "markdown",
   "id": "fa5f99ca-ccfc-4a47-aec4-541e36686138",
   "metadata": {},
   "source": [
    "Take a look at the Lambda function code that will be used as an Action group for the agent"
   ]
  },
  {
   "cell_type": "code",
   "execution_count": 21,
   "id": "04e53f6c-184d-4ab7-b845-87f380d263cb",
   "metadata": {
    "scrolled": true,
    "tags": []
   },
   "outputs": [
    {
     "name": "stdout",
     "output_type": "stream",
     "text": [
      "\u001b[37m#!/usr/bin/env python3\u001b[39;49;00m\u001b[37m\u001b[39;49;00m\n",
      "\u001b[37m# Copyright Amazon.com, Inc. or its affiliates. All Rights Reserved.\u001b[39;49;00m\u001b[37m\u001b[39;49;00m\n",
      "\u001b[37m# SPDX-License-Identifier: MIT-0\u001b[39;49;00m\u001b[37m\u001b[39;49;00m\n",
      "\u001b[34mimport\u001b[39;49;00m \u001b[04m\u001b[36mjson\u001b[39;49;00m\u001b[37m\u001b[39;49;00m\n",
      "\u001b[37m\u001b[39;49;00m\n",
      "\u001b[37m\u001b[39;49;00m\n",
      "\u001b[34mdef\u001b[39;49;00m \u001b[32mget_named_parameter\u001b[39;49;00m(event, name):\u001b[37m\u001b[39;49;00m\n",
      "    \u001b[34mreturn\u001b[39;49;00m \u001b[36mnext\u001b[39;49;00m(item \u001b[34mfor\u001b[39;49;00m item \u001b[35min\u001b[39;49;00m event[\u001b[33m'\u001b[39;49;00m\u001b[33mparameters\u001b[39;49;00m\u001b[33m'\u001b[39;49;00m] \u001b[34mif\u001b[39;49;00m item[\u001b[33m'\u001b[39;49;00m\u001b[33mname\u001b[39;49;00m\u001b[33m'\u001b[39;49;00m] == name)[\u001b[33m'\u001b[39;49;00m\u001b[33mvalue\u001b[39;49;00m\u001b[33m'\u001b[39;49;00m]\u001b[37m\u001b[39;49;00m\n",
      "\u001b[37m\u001b[39;49;00m\n",
      "\u001b[37m\u001b[39;49;00m\n",
      "\u001b[34mdef\u001b[39;49;00m \u001b[32mget_named_property\u001b[39;49;00m(event, name):\u001b[37m\u001b[39;49;00m\n",
      "    \u001b[34mreturn\u001b[39;49;00m \u001b[36mnext\u001b[39;49;00m(\u001b[37m\u001b[39;49;00m\n",
      "        item \u001b[34mfor\u001b[39;49;00m item \u001b[35min\u001b[39;49;00m\u001b[37m\u001b[39;49;00m\n",
      "        event[\u001b[33m'\u001b[39;49;00m\u001b[33mrequestBody\u001b[39;49;00m\u001b[33m'\u001b[39;49;00m][\u001b[33m'\u001b[39;49;00m\u001b[33mcontent\u001b[39;49;00m\u001b[33m'\u001b[39;49;00m][\u001b[33m'\u001b[39;49;00m\u001b[33mapplication/json\u001b[39;49;00m\u001b[33m'\u001b[39;49;00m][\u001b[33m'\u001b[39;49;00m\u001b[33mproperties\u001b[39;49;00m\u001b[33m'\u001b[39;49;00m]\u001b[37m\u001b[39;49;00m\n",
      "        \u001b[34mif\u001b[39;49;00m item[\u001b[33m'\u001b[39;49;00m\u001b[33mname\u001b[39;49;00m\u001b[33m'\u001b[39;49;00m] == name)[\u001b[33m'\u001b[39;49;00m\u001b[33mvalue\u001b[39;49;00m\u001b[33m'\u001b[39;49;00m]\u001b[37m\u001b[39;49;00m\n",
      "\u001b[37m\u001b[39;49;00m\n",
      "\u001b[37m\u001b[39;49;00m\n",
      "\u001b[34mdef\u001b[39;49;00m \u001b[32mclaim_detail\u001b[39;49;00m(payload):\u001b[37m\u001b[39;49;00m\n",
      "    claim_id = payload[\u001b[33m'\u001b[39;49;00m\u001b[33mparameters\u001b[39;49;00m\u001b[33m'\u001b[39;49;00m][\u001b[34m0\u001b[39;49;00m][\u001b[33m'\u001b[39;49;00m\u001b[33mvalue\u001b[39;49;00m\u001b[33m'\u001b[39;49;00m]\u001b[37m\u001b[39;49;00m\n",
      "    \u001b[34mif\u001b[39;49;00m claim_id == \u001b[33m'\u001b[39;49;00m\u001b[33mclaim-857\u001b[39;49;00m\u001b[33m'\u001b[39;49;00m:\u001b[37m\u001b[39;49;00m\n",
      "        \u001b[34mreturn\u001b[39;49;00m {\u001b[37m\u001b[39;49;00m\n",
      "            \u001b[33m\"\u001b[39;49;00m\u001b[33mresponse\u001b[39;49;00m\u001b[33m\"\u001b[39;49;00m: {\u001b[37m\u001b[39;49;00m\n",
      "                \u001b[33m\"\u001b[39;49;00m\u001b[33mclaimId\u001b[39;49;00m\u001b[33m\"\u001b[39;49;00m: claim_id,\u001b[37m\u001b[39;49;00m\n",
      "                \u001b[33m\"\u001b[39;49;00m\u001b[33mcreatedDate\u001b[39;49;00m\u001b[33m\"\u001b[39;49;00m: \u001b[33m\"\u001b[39;49;00m\u001b[33m21-Jul-2023\u001b[39;49;00m\u001b[33m\"\u001b[39;49;00m,\u001b[37m\u001b[39;49;00m\n",
      "                \u001b[33m\"\u001b[39;49;00m\u001b[33mlastActivityDate\u001b[39;49;00m\u001b[33m\"\u001b[39;49;00m: \u001b[33m\"\u001b[39;49;00m\u001b[33m25-Jul-2023\u001b[39;49;00m\u001b[33m\"\u001b[39;49;00m,\u001b[37m\u001b[39;49;00m\n",
      "                \u001b[33m\"\u001b[39;49;00m\u001b[33mstatus\u001b[39;49;00m\u001b[33m\"\u001b[39;49;00m: \u001b[33m\"\u001b[39;49;00m\u001b[33mOpen\u001b[39;49;00m\u001b[33m\"\u001b[39;49;00m,\u001b[37m\u001b[39;49;00m\n",
      "                \u001b[33m\"\u001b[39;49;00m\u001b[33mpolicyType\u001b[39;49;00m\u001b[33m\"\u001b[39;49;00m: \u001b[33m\"\u001b[39;49;00m\u001b[33mVehicle\u001b[39;49;00m\u001b[33m\"\u001b[39;49;00m\u001b[37m\u001b[39;49;00m\n",
      "            }\u001b[37m\u001b[39;49;00m\n",
      "        }\u001b[37m\u001b[39;49;00m\n",
      "    \u001b[34melif\u001b[39;49;00m claim_id == \u001b[33m'\u001b[39;49;00m\u001b[33mclaim-006\u001b[39;49;00m\u001b[33m'\u001b[39;49;00m:\u001b[37m\u001b[39;49;00m\n",
      "        \u001b[34mreturn\u001b[39;49;00m {\u001b[37m\u001b[39;49;00m\n",
      "            \u001b[33m\"\u001b[39;49;00m\u001b[33mresponse\u001b[39;49;00m\u001b[33m\"\u001b[39;49;00m: {\u001b[37m\u001b[39;49;00m\n",
      "                \u001b[33m\"\u001b[39;49;00m\u001b[33mclaimId\u001b[39;49;00m\u001b[33m\"\u001b[39;49;00m: claim_id,\u001b[37m\u001b[39;49;00m\n",
      "                \u001b[33m\"\u001b[39;49;00m\u001b[33mcreatedDate\u001b[39;49;00m\u001b[33m\"\u001b[39;49;00m: \u001b[33m\"\u001b[39;49;00m\u001b[33m20-May-2023\u001b[39;49;00m\u001b[33m\"\u001b[39;49;00m,\u001b[37m\u001b[39;49;00m\n",
      "                \u001b[33m\"\u001b[39;49;00m\u001b[33mlastActivityDate\u001b[39;49;00m\u001b[33m\"\u001b[39;49;00m: \u001b[33m\"\u001b[39;49;00m\u001b[33m23-Jul-2023\u001b[39;49;00m\u001b[33m\"\u001b[39;49;00m,\u001b[37m\u001b[39;49;00m\n",
      "                \u001b[33m\"\u001b[39;49;00m\u001b[33mstatus\u001b[39;49;00m\u001b[33m\"\u001b[39;49;00m: \u001b[33m\"\u001b[39;49;00m\u001b[33mOpen\u001b[39;49;00m\u001b[33m\"\u001b[39;49;00m,\u001b[37m\u001b[39;49;00m\n",
      "                \u001b[33m\"\u001b[39;49;00m\u001b[33mpolicyType\u001b[39;49;00m\u001b[33m\"\u001b[39;49;00m: \u001b[33m\"\u001b[39;49;00m\u001b[33mVehicle\u001b[39;49;00m\u001b[33m\"\u001b[39;49;00m\u001b[37m\u001b[39;49;00m\n",
      "            }\u001b[37m\u001b[39;49;00m\n",
      "        }\u001b[37m\u001b[39;49;00m\n",
      "    \u001b[34melif\u001b[39;49;00m claim_id == \u001b[33m'\u001b[39;49;00m\u001b[33mclaim-999\u001b[39;49;00m\u001b[33m'\u001b[39;49;00m:\u001b[37m\u001b[39;49;00m\n",
      "        \u001b[34mreturn\u001b[39;49;00m {\u001b[37m\u001b[39;49;00m\n",
      "            \u001b[33m\"\u001b[39;49;00m\u001b[33mresponse\u001b[39;49;00m\u001b[33m\"\u001b[39;49;00m: {\u001b[37m\u001b[39;49;00m\n",
      "                \u001b[33m\"\u001b[39;49;00m\u001b[33mclaimId\u001b[39;49;00m\u001b[33m\"\u001b[39;49;00m: claim_id,\u001b[37m\u001b[39;49;00m\n",
      "                \u001b[33m\"\u001b[39;49;00m\u001b[33mcreatedDate\u001b[39;49;00m\u001b[33m\"\u001b[39;49;00m: \u001b[33m\"\u001b[39;49;00m\u001b[33m10-Jan-2023\u001b[39;49;00m\u001b[33m\"\u001b[39;49;00m,\u001b[37m\u001b[39;49;00m\n",
      "                \u001b[33m\"\u001b[39;49;00m\u001b[33mlastActivityDate\u001b[39;49;00m\u001b[33m\"\u001b[39;49;00m: \u001b[33m\"\u001b[39;49;00m\u001b[33m31-Feb-2023\u001b[39;49;00m\u001b[33m\"\u001b[39;49;00m,\u001b[37m\u001b[39;49;00m\n",
      "                \u001b[33m\"\u001b[39;49;00m\u001b[33mstatus\u001b[39;49;00m\u001b[33m\"\u001b[39;49;00m: \u001b[33m\"\u001b[39;49;00m\u001b[33mCompleted\u001b[39;49;00m\u001b[33m\"\u001b[39;49;00m,\u001b[37m\u001b[39;49;00m\n",
      "                \u001b[33m\"\u001b[39;49;00m\u001b[33mpolicyType\u001b[39;49;00m\u001b[33m\"\u001b[39;49;00m: \u001b[33m\"\u001b[39;49;00m\u001b[33mDisability\u001b[39;49;00m\u001b[33m\"\u001b[39;49;00m\u001b[37m\u001b[39;49;00m\n",
      "            }\u001b[37m\u001b[39;49;00m\n",
      "        }\u001b[37m\u001b[39;49;00m\n",
      "    \u001b[34melse\u001b[39;49;00m:\u001b[37m\u001b[39;49;00m\n",
      "        \u001b[34mreturn\u001b[39;49;00m {\u001b[37m\u001b[39;49;00m\n",
      "            \u001b[33m\"\u001b[39;49;00m\u001b[33mresponse\u001b[39;49;00m\u001b[33m\"\u001b[39;49;00m: {\u001b[37m\u001b[39;49;00m\n",
      "                \u001b[33m\"\u001b[39;49;00m\u001b[33mclaimId\u001b[39;49;00m\u001b[33m\"\u001b[39;49;00m: claim_id,\u001b[37m\u001b[39;49;00m\n",
      "                \u001b[33m\"\u001b[39;49;00m\u001b[33mcreatedDate\u001b[39;49;00m\u001b[33m\"\u001b[39;49;00m: \u001b[33m\"\u001b[39;49;00m\u001b[33m18-Apr-2023\u001b[39;49;00m\u001b[33m\"\u001b[39;49;00m,\u001b[37m\u001b[39;49;00m\n",
      "                \u001b[33m\"\u001b[39;49;00m\u001b[33mlastActivityDate\u001b[39;49;00m\u001b[33m\"\u001b[39;49;00m: \u001b[33m\"\u001b[39;49;00m\u001b[33m20-Apr-2023\u001b[39;49;00m\u001b[33m\"\u001b[39;49;00m,\u001b[37m\u001b[39;49;00m\n",
      "                \u001b[33m\"\u001b[39;49;00m\u001b[33mstatus\u001b[39;49;00m\u001b[33m\"\u001b[39;49;00m: \u001b[33m\"\u001b[39;49;00m\u001b[33mOpen\u001b[39;49;00m\u001b[33m\"\u001b[39;49;00m,\u001b[37m\u001b[39;49;00m\n",
      "                \u001b[33m\"\u001b[39;49;00m\u001b[33mpolicyType\u001b[39;49;00m\u001b[33m\"\u001b[39;49;00m: \u001b[33m\"\u001b[39;49;00m\u001b[33mVehicle\u001b[39;49;00m\u001b[33m\"\u001b[39;49;00m\u001b[37m\u001b[39;49;00m\n",
      "            }\u001b[37m\u001b[39;49;00m\n",
      "        }\u001b[37m\u001b[39;49;00m\n",
      "\u001b[37m\u001b[39;49;00m\n",
      "\u001b[37m\u001b[39;49;00m\n",
      "\u001b[34mdef\u001b[39;49;00m \u001b[32mopen_claims\u001b[39;49;00m():\u001b[37m\u001b[39;49;00m\n",
      "    \u001b[34mreturn\u001b[39;49;00m {\u001b[37m\u001b[39;49;00m\n",
      "        \u001b[33m\"\u001b[39;49;00m\u001b[33mresponse\u001b[39;49;00m\u001b[33m\"\u001b[39;49;00m: [\u001b[37m\u001b[39;49;00m\n",
      "            {\u001b[37m\u001b[39;49;00m\n",
      "                \u001b[33m\"\u001b[39;49;00m\u001b[33mclaimId\u001b[39;49;00m\u001b[33m\"\u001b[39;49;00m: \u001b[33m\"\u001b[39;49;00m\u001b[33mclaim-006\u001b[39;49;00m\u001b[33m\"\u001b[39;49;00m,\u001b[37m\u001b[39;49;00m\n",
      "                \u001b[33m\"\u001b[39;49;00m\u001b[33mpolicyHolderId\u001b[39;49;00m\u001b[33m\"\u001b[39;49;00m: \u001b[33m\"\u001b[39;49;00m\u001b[33mA945684\u001b[39;49;00m\u001b[33m\"\u001b[39;49;00m,\u001b[37m\u001b[39;49;00m\n",
      "                \u001b[33m\"\u001b[39;49;00m\u001b[33mclaimStatus\u001b[39;49;00m\u001b[33m\"\u001b[39;49;00m: \u001b[33m\"\u001b[39;49;00m\u001b[33mOpen\u001b[39;49;00m\u001b[33m\"\u001b[39;49;00m\u001b[37m\u001b[39;49;00m\n",
      "            },\u001b[37m\u001b[39;49;00m\n",
      "            {\u001b[37m\u001b[39;49;00m\n",
      "                \u001b[33m\"\u001b[39;49;00m\u001b[33mclaimId\u001b[39;49;00m\u001b[33m\"\u001b[39;49;00m: \u001b[33m\"\u001b[39;49;00m\u001b[33mclaim-857\u001b[39;49;00m\u001b[33m\"\u001b[39;49;00m,\u001b[37m\u001b[39;49;00m\n",
      "                \u001b[33m\"\u001b[39;49;00m\u001b[33mpolicyHolderId\u001b[39;49;00m\u001b[33m\"\u001b[39;49;00m: \u001b[33m\"\u001b[39;49;00m\u001b[33mA645987\u001b[39;49;00m\u001b[33m\"\u001b[39;49;00m,\u001b[37m\u001b[39;49;00m\n",
      "                \u001b[33m\"\u001b[39;49;00m\u001b[33mclaimStatus\u001b[39;49;00m\u001b[33m\"\u001b[39;49;00m: \u001b[33m\"\u001b[39;49;00m\u001b[33mOpen\u001b[39;49;00m\u001b[33m\"\u001b[39;49;00m\u001b[37m\u001b[39;49;00m\n",
      "            },\u001b[37m\u001b[39;49;00m\n",
      "            {\u001b[37m\u001b[39;49;00m\n",
      "                \u001b[33m\"\u001b[39;49;00m\u001b[33mclaimId\u001b[39;49;00m\u001b[33m\"\u001b[39;49;00m: \u001b[33m\"\u001b[39;49;00m\u001b[33mclaim-334\u001b[39;49;00m\u001b[33m\"\u001b[39;49;00m,\u001b[37m\u001b[39;49;00m\n",
      "                \u001b[33m\"\u001b[39;49;00m\u001b[33mpolicyHolderId\u001b[39;49;00m\u001b[33m\"\u001b[39;49;00m: \u001b[33m\"\u001b[39;49;00m\u001b[33mA987654\u001b[39;49;00m\u001b[33m\"\u001b[39;49;00m,\u001b[37m\u001b[39;49;00m\n",
      "                \u001b[33m\"\u001b[39;49;00m\u001b[33mclaimStatus\u001b[39;49;00m\u001b[33m\"\u001b[39;49;00m: \u001b[33m\"\u001b[39;49;00m\u001b[33mOpen\u001b[39;49;00m\u001b[33m\"\u001b[39;49;00m\u001b[37m\u001b[39;49;00m\n",
      "            }\u001b[37m\u001b[39;49;00m\n",
      "        ]\u001b[37m\u001b[39;49;00m\n",
      "    }\u001b[37m\u001b[39;49;00m\n",
      "\u001b[37m\u001b[39;49;00m\n",
      "\u001b[37m\u001b[39;49;00m\n",
      "\u001b[34mdef\u001b[39;49;00m \u001b[32moutstanding_paperwork\u001b[39;49;00m(parameters):\u001b[37m\u001b[39;49;00m\n",
      "    \u001b[34mfor\u001b[39;49;00m parameter \u001b[35min\u001b[39;49;00m parameters:\u001b[37m\u001b[39;49;00m\n",
      "        \u001b[34mif\u001b[39;49;00m parameter.get(\u001b[33m\"\u001b[39;49;00m\u001b[33mvalue\u001b[39;49;00m\u001b[33m\"\u001b[39;49;00m, \u001b[34mNone\u001b[39;49;00m) == \u001b[33m\"\u001b[39;49;00m\u001b[33mclaim-857\u001b[39;49;00m\u001b[33m\"\u001b[39;49;00m:\u001b[37m\u001b[39;49;00m\n",
      "            \u001b[34mreturn\u001b[39;49;00m {\u001b[37m\u001b[39;49;00m\n",
      "                \u001b[33m\"\u001b[39;49;00m\u001b[33mresponse\u001b[39;49;00m\u001b[33m\"\u001b[39;49;00m: {\u001b[37m\u001b[39;49;00m\n",
      "                    \u001b[33m\"\u001b[39;49;00m\u001b[33mpendingDocuments\u001b[39;49;00m\u001b[33m\"\u001b[39;49;00m: \u001b[33m\"\u001b[39;49;00m\u001b[33mDriverLicense, VehicleRegistration\u001b[39;49;00m\u001b[33m\"\u001b[39;49;00m\u001b[37m\u001b[39;49;00m\n",
      "                }\u001b[37m\u001b[39;49;00m\n",
      "            }\u001b[37m\u001b[39;49;00m\n",
      "        \u001b[34melif\u001b[39;49;00m parameter.get(\u001b[33m\"\u001b[39;49;00m\u001b[33mvalue\u001b[39;49;00m\u001b[33m\"\u001b[39;49;00m, \u001b[34mNone\u001b[39;49;00m) == \u001b[33m\"\u001b[39;49;00m\u001b[33mclaim-006\u001b[39;49;00m\u001b[33m\"\u001b[39;49;00m:\u001b[37m\u001b[39;49;00m\n",
      "            \u001b[34mreturn\u001b[39;49;00m {\u001b[37m\u001b[39;49;00m\n",
      "                \u001b[33m\"\u001b[39;49;00m\u001b[33mresponse\u001b[39;49;00m\u001b[33m\"\u001b[39;49;00m: {\u001b[37m\u001b[39;49;00m\n",
      "                    \u001b[33m\"\u001b[39;49;00m\u001b[33mpendingDocuments\u001b[39;49;00m\u001b[33m\"\u001b[39;49;00m: \u001b[33m\"\u001b[39;49;00m\u001b[33mAccidentImages\u001b[39;49;00m\u001b[33m\"\u001b[39;49;00m\u001b[37m\u001b[39;49;00m\n",
      "                }\u001b[37m\u001b[39;49;00m\n",
      "            }\u001b[37m\u001b[39;49;00m\n",
      "        \u001b[34melse\u001b[39;49;00m:\u001b[37m\u001b[39;49;00m\n",
      "            \u001b[34mreturn\u001b[39;49;00m {\u001b[37m\u001b[39;49;00m\n",
      "                \u001b[33m\"\u001b[39;49;00m\u001b[33mresponse\u001b[39;49;00m\u001b[33m\"\u001b[39;49;00m: {\u001b[37m\u001b[39;49;00m\n",
      "                    \u001b[33m\"\u001b[39;49;00m\u001b[33mpendingDocuments\u001b[39;49;00m\u001b[33m\"\u001b[39;49;00m: \u001b[33m\"\u001b[39;49;00m\u001b[33m\"\u001b[39;49;00m\u001b[37m\u001b[39;49;00m\n",
      "                }\u001b[37m\u001b[39;49;00m\n",
      "            }\u001b[37m\u001b[39;49;00m\n",
      "\u001b[37m\u001b[39;49;00m\n",
      "\u001b[37m\u001b[39;49;00m\n",
      "\u001b[34mdef\u001b[39;49;00m \u001b[32msend_reminder\u001b[39;49;00m(payload):\u001b[37m\u001b[39;49;00m\n",
      "    \u001b[36mprint\u001b[39;49;00m(payload)\u001b[37m\u001b[39;49;00m\n",
      "    \u001b[34mreturn\u001b[39;49;00m {\u001b[37m\u001b[39;49;00m\n",
      "        \u001b[33m\"\u001b[39;49;00m\u001b[33mresponse\u001b[39;49;00m\u001b[33m\"\u001b[39;49;00m: {\u001b[37m\u001b[39;49;00m\n",
      "            \u001b[33m\"\u001b[39;49;00m\u001b[33msendReminderTrackingId\u001b[39;49;00m\u001b[33m\"\u001b[39;49;00m: \u001b[33m\"\u001b[39;49;00m\u001b[33m50e8400-e29b-41d4-a716-446655440000\u001b[39;49;00m\u001b[33m\"\u001b[39;49;00m,\u001b[37m\u001b[39;49;00m\n",
      "            \u001b[33m\"\u001b[39;49;00m\u001b[33msendReminderStatus\u001b[39;49;00m\u001b[33m\"\u001b[39;49;00m: \u001b[33m\"\u001b[39;49;00m\u001b[33mInProgress\u001b[39;49;00m\u001b[33m\"\u001b[39;49;00m\u001b[37m\u001b[39;49;00m\n",
      "        }\u001b[37m\u001b[39;49;00m\n",
      "    }\u001b[37m\u001b[39;49;00m\n",
      "\u001b[37m\u001b[39;49;00m\n",
      "\u001b[37m\u001b[39;49;00m\n",
      "\u001b[34mdef\u001b[39;49;00m \u001b[32mlambda_handler\u001b[39;49;00m(event, context):\u001b[37m\u001b[39;49;00m\n",
      "    action = event[\u001b[33m'\u001b[39;49;00m\u001b[33mactionGroup\u001b[39;49;00m\u001b[33m'\u001b[39;49;00m]\u001b[37m\u001b[39;49;00m\n",
      "    api_path = event[\u001b[33m'\u001b[39;49;00m\u001b[33mapiPath\u001b[39;49;00m\u001b[33m'\u001b[39;49;00m]\u001b[37m\u001b[39;49;00m\n",
      "\u001b[37m\u001b[39;49;00m\n",
      "    \u001b[34mif\u001b[39;49;00m api_path == \u001b[33m'\u001b[39;49;00m\u001b[33m/open-items\u001b[39;49;00m\u001b[33m'\u001b[39;49;00m:\u001b[37m\u001b[39;49;00m\n",
      "        body = open_claims()\u001b[37m\u001b[39;49;00m\n",
      "    \u001b[34melif\u001b[39;49;00m api_path == \u001b[33m'\u001b[39;49;00m\u001b[33m/open-items/\u001b[39;49;00m\u001b[33m{claimId}\u001b[39;49;00m\u001b[33m/outstanding-paperwork\u001b[39;49;00m\u001b[33m'\u001b[39;49;00m:\u001b[37m\u001b[39;49;00m\n",
      "        parameters = event[\u001b[33m'\u001b[39;49;00m\u001b[33mparameters\u001b[39;49;00m\u001b[33m'\u001b[39;49;00m]\u001b[37m\u001b[39;49;00m\n",
      "        body = outstanding_paperwork(parameters)\u001b[37m\u001b[39;49;00m\n",
      "    \u001b[34melif\u001b[39;49;00m api_path == \u001b[33m'\u001b[39;49;00m\u001b[33m/open-items/\u001b[39;49;00m\u001b[33m{claimId}\u001b[39;49;00m\u001b[33m/detail\u001b[39;49;00m\u001b[33m'\u001b[39;49;00m:\u001b[37m\u001b[39;49;00m\n",
      "        body = claim_detail(event)\u001b[37m\u001b[39;49;00m\n",
      "    \u001b[34melif\u001b[39;49;00m api_path == \u001b[33m'\u001b[39;49;00m\u001b[33m/notify\u001b[39;49;00m\u001b[33m'\u001b[39;49;00m:\u001b[37m\u001b[39;49;00m\n",
      "        body = send_reminder(event)\u001b[37m\u001b[39;49;00m\n",
      "    \u001b[34melse\u001b[39;49;00m:\u001b[37m\u001b[39;49;00m\n",
      "        body = {\u001b[33m\"\u001b[39;49;00m\u001b[33m{}\u001b[39;49;00m\u001b[33m::\u001b[39;49;00m\u001b[33m{}\u001b[39;49;00m\u001b[33m is not a valid api, try another one.\u001b[39;49;00m\u001b[33m\"\u001b[39;49;00m.format(action, api_path)}\u001b[37m\u001b[39;49;00m\n",
      "\u001b[37m\u001b[39;49;00m\n",
      "    response_body = {\u001b[37m\u001b[39;49;00m\n",
      "        \u001b[33m'\u001b[39;49;00m\u001b[33mapplication/json\u001b[39;49;00m\u001b[33m'\u001b[39;49;00m: {\u001b[37m\u001b[39;49;00m\n",
      "            \u001b[33m'\u001b[39;49;00m\u001b[33mbody\u001b[39;49;00m\u001b[33m'\u001b[39;49;00m: \u001b[36mstr\u001b[39;49;00m(body)\u001b[37m\u001b[39;49;00m\n",
      "        }\u001b[37m\u001b[39;49;00m\n",
      "    }\u001b[37m\u001b[39;49;00m\n",
      "\u001b[37m\u001b[39;49;00m\n",
      "    action_response = {\u001b[37m\u001b[39;49;00m\n",
      "        \u001b[33m'\u001b[39;49;00m\u001b[33mactionGroup\u001b[39;49;00m\u001b[33m'\u001b[39;49;00m: event[\u001b[33m'\u001b[39;49;00m\u001b[33mactionGroup\u001b[39;49;00m\u001b[33m'\u001b[39;49;00m],\u001b[37m\u001b[39;49;00m\n",
      "        \u001b[33m'\u001b[39;49;00m\u001b[33mapiPath\u001b[39;49;00m\u001b[33m'\u001b[39;49;00m: event[\u001b[33m'\u001b[39;49;00m\u001b[33mapiPath\u001b[39;49;00m\u001b[33m'\u001b[39;49;00m],\u001b[37m\u001b[39;49;00m\n",
      "        \u001b[33m'\u001b[39;49;00m\u001b[33mhttpMethod\u001b[39;49;00m\u001b[33m'\u001b[39;49;00m: event[\u001b[33m'\u001b[39;49;00m\u001b[33mhttpMethod\u001b[39;49;00m\u001b[33m'\u001b[39;49;00m],\u001b[37m\u001b[39;49;00m\n",
      "        \u001b[33m'\u001b[39;49;00m\u001b[33mhttpStatusCode\u001b[39;49;00m\u001b[33m'\u001b[39;49;00m: \u001b[34m200\u001b[39;49;00m,\u001b[37m\u001b[39;49;00m\n",
      "        \u001b[33m'\u001b[39;49;00m\u001b[33mresponseBody\u001b[39;49;00m\u001b[33m'\u001b[39;49;00m: response_body\u001b[37m\u001b[39;49;00m\n",
      "    }\u001b[37m\u001b[39;49;00m\n",
      "\u001b[37m\u001b[39;49;00m\n",
      "    response = {\u001b[33m'\u001b[39;49;00m\u001b[33mresponse\u001b[39;49;00m\u001b[33m'\u001b[39;49;00m: action_response}\u001b[37m\u001b[39;49;00m\n",
      "    \u001b[34mreturn\u001b[39;49;00m response\u001b[37m\u001b[39;49;00m\n"
     ]
    }
   ],
   "source": [
    "!pygmentize lambda_function.py"
   ]
  },
  {
   "cell_type": "code",
   "execution_count": 22,
   "id": "f8b0dbc2-9c36-4f0a-8701-472f7c162a65",
   "metadata": {
    "tags": []
   },
   "outputs": [],
   "source": [
    "# Package up the lambda function code\n",
    "s = BytesIO()\n",
    "z = zipfile.ZipFile(s, 'w')\n",
    "z.write(lambda_code_path)\n",
    "z.close()\n",
    "zip_content = s.getvalue()\n",
    "\n",
    "# Create Lambda Function\n",
    "lambda_function = lambda_client.create_function(\n",
    "    FunctionName=lambda_name,\n",
    "    Runtime='python3.12',\n",
    "    Timeout=180,\n",
    "    Role=lambda_iam_role['Role']['Arn'],\n",
    "    Code={'ZipFile': zip_content},\n",
    "    Handler='lambda_function.lambda_handler'\n",
    ")"
   ]
  },
  {
   "cell_type": "markdown",
   "id": "ded8e395-f8b7-4a64-9bb4-ac3f7dc8742a",
   "metadata": {},
   "source": [
    "## Create Agent\n",
    "We will now create the agent. To do so, we first need to create the agent policies that allow bedrock model invocation and the agent IAM role with the policy associated to it. We will allow this agent to invoke the Claude Sonnet model."
   ]
  },
  {
   "cell_type": "code",
   "execution_count": 23,
   "id": "1d627d18-35f4-4752-9960-9d2ccf4f48f0",
   "metadata": {
    "tags": []
   },
   "outputs": [],
   "source": [
    "# Create IAM policies for agent\n",
    "\n",
    "bedrock_agent_bedrock_allow_policy_statement = {\n",
    "    \"Version\": \"2012-10-17\",\n",
    "    \"Statement\": [\n",
    "        {\n",
    "            \"Sid\": \"AmazonBedrockAgentBedrockFoundationModelPolicy\",\n",
    "            \"Effect\": \"Allow\",\n",
    "            \"Action\": \"bedrock:InvokeModel\",\n",
    "            \"Resource\": [\n",
    "                f\"arn:aws:bedrock:{region}::foundation-model/{model_id}\"\n",
    "            ]\n",
    "        }\n",
    "    ]\n",
    "}\n",
    "\n",
    "bedrock_policy_json = json.dumps(bedrock_agent_bedrock_allow_policy_statement)\n",
    "\n",
    "agent_bedrock_policy = iam_client.create_policy(\n",
    "    PolicyName=bedrock_agent_bedrock_allow_policy_name,\n",
    "    PolicyDocument=bedrock_policy_json\n",
    ")\n",
    "\n"
   ]
  },
  {
   "cell_type": "markdown",
   "id": "12e58ba0-1281-4950-b173-0d6d89d5934e",
   "metadata": {},
   "source": [
    "Next, we will create a policy document that allows fetching of the Agent's OpenAPI schema from S3:"
   ]
  },
  {
   "cell_type": "code",
   "execution_count": 24,
   "id": "55ff92f7-e525-4d28-87ca-c3b262d0ddd0",
   "metadata": {
    "tags": []
   },
   "outputs": [],
   "source": [
    "bedrock_agent_s3_allow_policy_statement = {\n",
    "    \"Version\": \"2012-10-17\",\n",
    "    \"Statement\": [\n",
    "        {\n",
    "            \"Sid\": \"AllowAgentAccessOpenAPISchema\",\n",
    "            \"Effect\": \"Allow\",\n",
    "            \"Action\": [\"s3:GetObject\"],\n",
    "            \"Resource\": [\n",
    "                schema_arn\n",
    "            ]\n",
    "        }\n",
    "    ]\n",
    "}\n",
    "\n",
    "\n",
    "bedrock_agent_s3_json = json.dumps(bedrock_agent_s3_allow_policy_statement)\n",
    "agent_s3_schema_policy = iam_client.create_policy(\n",
    "    PolicyName=bedrock_agent_s3_allow_policy_name,\n",
    "    Description=f\"Policy to allow invoke Lambda that was provisioned for it.\",\n",
    "    PolicyDocument=bedrock_agent_s3_json\n",
    ")"
   ]
  },
  {
   "cell_type": "markdown",
   "id": "7f65d3a1-5400-4da0-87b0-df9099f9d160",
   "metadata": {},
   "source": [
    "Finally, create a role with the above two policies attached"
   ]
  },
  {
   "cell_type": "code",
   "execution_count": 25,
   "id": "f1148115-bcc3-4e5b-ba58-f8946679036d",
   "metadata": {
    "tags": []
   },
   "outputs": [
    {
     "data": {
      "text/plain": [
       "{'ResponseMetadata': {'RequestId': '06c218da-853d-4e3a-ba58-2aa381bbf1b5',\n",
       "  'HTTPStatusCode': 200,\n",
       "  'HTTPHeaders': {'date': 'Fri, 22 Nov 2024 16:42:06 GMT',\n",
       "   'x-amzn-requestid': '06c218da-853d-4e3a-ba58-2aa381bbf1b5',\n",
       "   'content-type': 'text/xml',\n",
       "   'content-length': '212'},\n",
       "  'RetryAttempts': 0}}"
      ]
     },
     "execution_count": 25,
     "metadata": {},
     "output_type": "execute_result"
    }
   ],
   "source": [
    "# Create IAM Role for the agent and attach IAM policies\n",
    "assume_role_policy_document = {\n",
    "    \"Version\": \"2012-10-17\",\n",
    "    \"Statement\": [{\n",
    "          \"Effect\": \"Allow\",\n",
    "          \"Principal\": {\n",
    "            \"Service\": \"bedrock.amazonaws.com\"\n",
    "          },\n",
    "          \"Action\": \"sts:AssumeRole\"\n",
    "    }]\n",
    "}\n",
    "\n",
    "assume_role_policy_document_json = json.dumps(assume_role_policy_document)\n",
    "agent_role = iam_client.create_role(\n",
    "    RoleName=agent_role_name,\n",
    "    AssumeRolePolicyDocument=assume_role_policy_document_json\n",
    ")\n",
    "\n",
    "# Pause to make sure role is created\n",
    "time.sleep(10)\n",
    "    \n",
    "iam_client.attach_role_policy(\n",
    "    RoleName=agent_role_name,\n",
    "    PolicyArn=agent_bedrock_policy['Policy']['Arn']\n",
    ")\n",
    "\n",
    "iam_client.attach_role_policy(\n",
    "    RoleName=agent_role_name,\n",
    "    PolicyArn=agent_s3_schema_policy['Policy']['Arn']\n",
    ")"
   ]
  },
  {
   "cell_type": "markdown",
   "id": "96b86215-bc3d-47f6-a98c-6f96c513d886",
   "metadata": {},
   "source": [
    "## Creating Agent\n",
    "Once the needed IAM role is created, we can use the bedrock agent client to create a new agent. To do so we use the `create_agent` function. It requires an agent name, underlying foundation model and instructions. You can also provide an agent description. Note that the agent created is not yet prepared. We will focus on preparing the agent and then using it to invoke actions and use other APIs"
   ]
  },
  {
   "cell_type": "code",
   "execution_count": 26,
   "id": "e1d7c63b-6bc0-4b48-a5c0-2db24fa5a21e",
   "metadata": {
    "tags": []
   },
   "outputs": [],
   "source": [
    "# Create Agent\n",
    "agent_instruction = \"\"\"\n",
    "You are an agent that can handle various tasks related to insurance claims, including looking up claim \n",
    "details, finding what paperwork is outstanding, and sending reminders. Only send reminders if you have been \n",
    "explicitly requested to do so. If an user asks about your functionality, provide guidance in natural language \n",
    "and do not include function names on the output.\"\"\"\n",
    "\n",
    "response = bedrock_agent_client.create_agent(\n",
    "    agentName=agent_name,\n",
    "    agentResourceRoleArn=agent_role['Role']['Arn'],\n",
    "    description=\"Agent for handling insurance claims.\",\n",
    "    idleSessionTTLInSeconds=1800,\n",
    "    foundationModel=model_id,\n",
    "    instruction=agent_instruction,\n",
    ")"
   ]
  },
  {
   "cell_type": "markdown",
   "id": "aa89ac0d-b1af-4efa-bbb8-59a8f486a622",
   "metadata": {},
   "source": [
    "Looking at the created agent, we can see its status and agent id"
   ]
  },
  {
   "cell_type": "code",
   "execution_count": 27,
   "id": "0eef5588-1f7f-4d94-8a10-3eb8ecf316d1",
   "metadata": {
    "tags": []
   },
   "outputs": [
    {
     "data": {
      "text/plain": [
       "{'ResponseMetadata': {'RequestId': '86a801c3-c73a-40db-bde3-2ce54c70adbd',\n",
       "  'HTTPStatusCode': 202,\n",
       "  'HTTPHeaders': {'date': 'Fri, 22 Nov 2024 16:42:07 GMT',\n",
       "   'content-type': 'application/json',\n",
       "   'content-length': '943',\n",
       "   'connection': 'keep-alive',\n",
       "   'x-amzn-requestid': '86a801c3-c73a-40db-bde3-2ce54c70adbd',\n",
       "   'x-amz-apigw-id': 'BqEe7GJIvHcEvGw=',\n",
       "   'x-amzn-trace-id': 'Root=1-6740b45f-0dad05295dadf95d6e054478'},\n",
       "  'RetryAttempts': 0},\n",
       " 'agent': {'agentArn': 'arn:aws:bedrock:us-west-2:114538913250:agent/V5AGCELWHN',\n",
       "  'agentId': 'V5AGCELWHN',\n",
       "  'agentName': 'ins-claims-agent-user-conf',\n",
       "  'agentResourceRoleArn': 'arn:aws:iam::114538913250:role/AmazonBedrockExecutionRoleForAgents_us-west-2-1145389132504',\n",
       "  'agentStatus': 'CREATING',\n",
       "  'createdAt': datetime.datetime(2024, 11, 22, 16, 42, 7, 284971, tzinfo=tzlocal()),\n",
       "  'description': 'Agent for handling insurance claims.',\n",
       "  'foundationModel': 'anthropic.claude-3-sonnet-20240229-v1:0',\n",
       "  'idleSessionTTLInSeconds': 1800,\n",
       "  'instruction': '\\nYou are an agent that can handle various tasks related to insurance claims, including looking up claim \\ndetails, finding what paperwork is outstanding, and sending reminders. Only send reminders if you have been \\nexplicitly requested to do so. If an user asks about your functionality, provide guidance in natural language \\nand do not include function names on the output.',\n",
       "  'updatedAt': datetime.datetime(2024, 11, 22, 16, 42, 7, 284971, tzinfo=tzlocal())}}"
      ]
     },
     "execution_count": 27,
     "metadata": {},
     "output_type": "execute_result"
    }
   ],
   "source": [
    "response"
   ]
  },
  {
   "cell_type": "markdown",
   "id": "780ce247-ff4c-4ecf-8558-222581d2ea52",
   "metadata": {},
   "source": [
    "Let's now store the agent id in a local variable to use it on the next steps"
   ]
  },
  {
   "cell_type": "code",
   "execution_count": 28,
   "id": "4d2bf0ea-5c5c-4afc-9b4d-19158b48bb50",
   "metadata": {
    "tags": []
   },
   "outputs": [
    {
     "data": {
      "text/plain": [
       "'V5AGCELWHN'"
      ]
     },
     "execution_count": 28,
     "metadata": {},
     "output_type": "execute_result"
    }
   ],
   "source": [
    "agent_id = response['agent']['agentId']\n",
    "agent_id"
   ]
  },
  {
   "cell_type": "markdown",
   "id": "32158234-b474-4bfa-8efd-afe5aa087df8",
   "metadata": {},
   "source": [
    "## Create Agent Action Group\n",
    "We will now create and agent action group that uses the lambda function and API schema files created before.\n",
    "The `create_agent_action_group` function provides this functionality. We will use `DRAFT` as the agent version since we haven't yet create an agent version or alias. To inform the agent about the action group functionalities, we will provide an action group description containing the functionalities of the action group."
   ]
  },
  {
   "cell_type": "code",
   "execution_count": 29,
   "id": "ca4dd6c1-5151-4846-ac75-e8b23e299a90",
   "metadata": {
    "tags": []
   },
   "outputs": [],
   "source": [
    "# Pause to make sure agent is created\n",
    "time.sleep(30)\n",
    "# Now, we can configure and create an action group here:\n",
    "agent_action_group_response = bedrock_agent_client.create_agent_action_group(\n",
    "    agentId=agent_id,\n",
    "    agentVersion='DRAFT',\n",
    "    actionGroupExecutor={\n",
    "        'lambda': lambda_function['FunctionArn']\n",
    "    },\n",
    "    actionGroupName='ClaimManagementActionGroup',\n",
    "    apiSchema={\n",
    "        's3': {\n",
    "            's3BucketName': bucket_name,\n",
    "            's3ObjectKey': bucket_key\n",
    "        }\n",
    "    },\n",
    "    description='Actions for listing claims, identifying missing paperwork, sending reminders'\n",
    ")"
   ]
  },
  {
   "cell_type": "code",
   "execution_count": 30,
   "id": "74945f90-4777-40da-bc5e-ca0b31fdbb6b",
   "metadata": {
    "tags": []
   },
   "outputs": [
    {
     "data": {
      "text/plain": [
       "{'ResponseMetadata': {'RequestId': 'a6cbc81d-4b8c-4078-a9c2-e30fa8498bcf',\n",
       "  'HTTPStatusCode': 200,\n",
       "  'HTTPHeaders': {'date': 'Fri, 22 Nov 2024 16:42:45 GMT',\n",
       "   'content-type': 'application/json',\n",
       "   'content-length': '633',\n",
       "   'connection': 'keep-alive',\n",
       "   'x-amzn-requestid': 'a6cbc81d-4b8c-4078-a9c2-e30fa8498bcf',\n",
       "   'x-amz-apigw-id': 'BqEkxE61PHcElEw=',\n",
       "   'x-amzn-trace-id': 'Root=1-6740b484-00014f77390cd5d03bd569b4'},\n",
       "  'RetryAttempts': 0},\n",
       " 'agentActionGroup': {'actionGroupExecutor': {'lambda': 'arn:aws:lambda:us-west-2:114538913250:function:ins-claims-agent-user-conf-us-west-2-1145389132504'},\n",
       "  'actionGroupId': 'DO9GOVCQRD',\n",
       "  'actionGroupName': 'ClaimManagementActionGroup',\n",
       "  'actionGroupState': 'ENABLED',\n",
       "  'agentId': 'V5AGCELWHN',\n",
       "  'agentVersion': 'DRAFT',\n",
       "  'apiSchema': {'s3': {'s3BucketName': 'ins-claims-agent-user-conf-us-west-2-1145389132504',\n",
       "    's3ObjectKey': 'ins-claims-agent-user-conf-schema.json'}},\n",
       "  'createdAt': datetime.datetime(2024, 11, 22, 16, 42, 45, 377083, tzinfo=tzlocal()),\n",
       "  'description': 'Actions for listing claims, identifying missing paperwork, sending reminders',\n",
       "  'updatedAt': datetime.datetime(2024, 11, 22, 16, 42, 45, 377083, tzinfo=tzlocal())}}"
      ]
     },
     "execution_count": 30,
     "metadata": {},
     "output_type": "execute_result"
    }
   ],
   "source": [
    "agent_action_group_response"
   ]
  },
  {
   "cell_type": "markdown",
   "id": "04586a08-764b-499a-a52a-5b199b061890",
   "metadata": {},
   "source": [
    "## Allowing Agent to invoke Action Group Lambda\n",
    "Before using our action group, we need to allow our agent to invoke the lambda function associated to the action group. This is done via resource-based policy. Let's add the resource-based policy to the lambda function created"
   ]
  },
  {
   "cell_type": "code",
   "execution_count": 31,
   "id": "33555ead-bc3c-420b-b0fd-ee644863ce57",
   "metadata": {
    "tags": []
   },
   "outputs": [],
   "source": [
    "# Create allow invoke permission on lambda\n",
    "response = lambda_client.add_permission(\n",
    "    FunctionName=lambda_name,\n",
    "    StatementId='allow_bedrock',\n",
    "    Action='lambda:InvokeFunction',\n",
    "    Principal='bedrock.amazonaws.com',\n",
    "    SourceArn=f\"arn:aws:bedrock:{region}:{account_id}:agent/{agent_id}\",\n",
    ")"
   ]
  },
  {
   "cell_type": "markdown",
   "id": "c449b466-3d92-49e7-aef2-168c8f669c40",
   "metadata": {},
   "source": [
    "## Preparing Agent\n",
    "Let's create a DRAFT version of the agent that can be used for internal testing."
   ]
  },
  {
   "cell_type": "code",
   "execution_count": 32,
   "id": "37a8d75d-9661-4b4f-95af-c3ab05e00b75",
   "metadata": {
    "tags": []
   },
   "outputs": [
    {
     "data": {
      "text/plain": [
       "{'ResponseMetadata': {'RequestId': '92b54b57-ddf1-45a7-901d-cbe3a504801d',\n",
       "  'HTTPStatusCode': 202,\n",
       "  'HTTPHeaders': {'date': 'Fri, 22 Nov 2024 16:42:45 GMT',\n",
       "   'content-type': 'application/json',\n",
       "   'content-length': '119',\n",
       "   'connection': 'keep-alive',\n",
       "   'x-amzn-requestid': '92b54b57-ddf1-45a7-901d-cbe3a504801d',\n",
       "   'x-amz-apigw-id': 'BqEk7GwjPHcEpQQ=',\n",
       "   'x-amzn-trace-id': 'Root=1-6740b485-1ac02870399db5f2780892a3'},\n",
       "  'RetryAttempts': 0},\n",
       " 'agentId': 'V5AGCELWHN',\n",
       " 'agentStatus': 'PREPARING',\n",
       " 'agentVersion': 'DRAFT',\n",
       " 'preparedAt': datetime.datetime(2024, 11, 22, 16, 42, 45, 732374, tzinfo=tzlocal())}"
      ]
     },
     "execution_count": 32,
     "metadata": {},
     "output_type": "execute_result"
    }
   ],
   "source": [
    "agent_prepare = bedrock_agent_client.prepare_agent(agentId=agent_id)\n",
    "agent_prepare"
   ]
  },
  {
   "cell_type": "markdown",
   "id": "092dc0d0-3597-4ec2-8959-e1c968c9670b",
   "metadata": {},
   "source": [
    "## Create Agent alias\n",
    "We will now create an alias of the agent that can be used to deploy the agent."
   ]
  },
  {
   "cell_type": "code",
   "execution_count": 33,
   "id": "3f93af07-ac4b-45a0-89b5-7a90929df6f5",
   "metadata": {
    "tags": []
   },
   "outputs": [],
   "source": [
    "# Pause to make sure agent is prepared\n",
    "time.sleep(30)\n",
    "agent_alias = bedrock_agent_client.create_agent_alias(\n",
    "    agentId=agent_id,\n",
    "    agentAliasName=agent_alias_name\n",
    ")"
   ]
  },
  {
   "cell_type": "code",
   "execution_count": 34,
   "id": "35de5613-638c-4f04-88e0-6fc9689b5f5d",
   "metadata": {
    "tags": []
   },
   "outputs": [
    {
     "data": {
      "text/plain": [
       "{'ResponseMetadata': {'RequestId': '71ef4159-4456-456b-98d4-a1dea09df10a',\n",
       "  'HTTPStatusCode': 202,\n",
       "  'HTTPHeaders': {'date': 'Fri, 22 Nov 2024 16:43:15 GMT',\n",
       "   'content-type': 'application/json',\n",
       "   'content-length': '340',\n",
       "   'connection': 'keep-alive',\n",
       "   'x-amzn-requestid': '71ef4159-4456-456b-98d4-a1dea09df10a',\n",
       "   'x-amz-apigw-id': 'BqEppGAJvHcEZrw=',\n",
       "   'x-amzn-trace-id': 'Root=1-6740b4a3-11aea10d76fa6a3d56e25a4f'},\n",
       "  'RetryAttempts': 0},\n",
       " 'agentAlias': {'agentAliasArn': 'arn:aws:bedrock:us-west-2:114538913250:agent-alias/V5AGCELWHN/SFOGUF2JF4',\n",
       "  'agentAliasId': 'SFOGUF2JF4',\n",
       "  'agentAliasName': 'workshop-alias',\n",
       "  'agentAliasStatus': 'CREATING',\n",
       "  'agentId': 'V5AGCELWHN',\n",
       "  'createdAt': datetime.datetime(2024, 11, 22, 16, 43, 15, 889336, tzinfo=tzlocal()),\n",
       "  'routingConfiguration': [{}],\n",
       "  'updatedAt': datetime.datetime(2024, 11, 22, 16, 43, 15, 889336, tzinfo=tzlocal())}}"
      ]
     },
     "execution_count": 34,
     "metadata": {},
     "output_type": "execute_result"
    }
   ],
   "source": [
    "agent_alias"
   ]
  },
  {
   "cell_type": "markdown",
   "id": "fe578b55",
   "metadata": {},
   "source": [
    "## Create a simple function to Invoke the Agent"
   ]
  },
  {
   "cell_type": "code",
   "execution_count": 35,
   "id": "143fea41",
   "metadata": {
    "tags": []
   },
   "outputs": [],
   "source": [
    "def simple_agent_invoke(input_text, agent_id, agent_alias_id, session_id=None, enable_trace=False, end_session=False):\n",
    "    \n",
    "    agentResponse = bedrock_agent_runtime_client.invoke_agent(\n",
    "        inputText=input_text,\n",
    "        agentId=agent_id,\n",
    "        agentAliasId=agent_alias_id, \n",
    "        sessionId=session_id,\n",
    "        enableTrace=enable_trace, \n",
    "        endSession= end_session\n",
    "    )\n",
    "    \n",
    "    event_stream = agentResponse['completion']\n",
    "    try:\n",
    "        for event in event_stream:  \n",
    "            if 'returnControl' in event:\n",
    "                pprint.pp(event)\n",
    "                \n",
    "                return event\n",
    "            elif 'chunk' in event:\n",
    "                data = event['chunk']['bytes']\n",
    "                logger.info(f\"Final answer ->\\n{data.decode('utf8')}\")\n",
    "                agent_answer = data.decode('utf8')\n",
    "                end_event_received = True\n",
    "                \n",
    "                print(agent_answer)\n",
    "                # End event indicates that the request finished successfully\n",
    "                return event\n",
    "            elif 'trace' in event:\n",
    "                logger.info(json.dumps(event['trace'], indent=2))\n",
    "            else:\n",
    "                raise Exception(\"unexpected event.\", event)\n",
    "    except Exception as e:\n",
    "        raise Exception(\"unexpected event.\", e)"
   ]
  },
  {
   "cell_type": "markdown",
   "id": "c12d9f6b",
   "metadata": {},
   "source": [
    "## Extract the agentAliasId from the response"
   ]
  },
  {
   "cell_type": "code",
   "execution_count": 36,
   "id": "f7848c94",
   "metadata": {
    "tags": []
   },
   "outputs": [],
   "source": [
    "time.sleep(30)\n",
    "\n",
    "agent_alias_id = agent_alias['agentAlias']['agentAliasId']"
   ]
  },
  {
   "cell_type": "markdown",
   "id": "ada2844c-04fd-4dfc-a87d-0a668afb8f82",
   "metadata": {},
   "source": [
    "## Invoke the Agent for an API that does not have User Confirmation Enabled\n",
    "\n",
    "As the first test, we will invoke our agent with a prompt that we know is for an API where user confirmation has not been enabled. Now that we've created the agent, let's use the `bedrock-agent-runtime` client to invoke this agent and perform some tasks."
   ]
  },
  {
   "cell_type": "code",
   "execution_count": 37,
   "id": "fb174c5e-6cbc-4314-8b0b-a51123a0386a",
   "metadata": {
    "tags": []
   },
   "outputs": [
    {
     "name": "stderr",
     "output_type": "stream",
     "text": [
      "[2024-11-22 16:43:59,496] p5975 {1476644290.py:21} INFO - Final answer ->\n",
      "The open insurance claims are:\n",
      "\n",
      "- Claim ID: claim-006, Policy Holder ID: A945684\n",
      "- Claim ID: claim-857, Policy Holder ID: A645987  \n",
      "- Claim ID: claim-334, Policy Holder ID: A987654\n"
     ]
    },
    {
     "name": "stdout",
     "output_type": "stream",
     "text": [
      "The open insurance claims are:\n",
      "\n",
      "- Claim ID: claim-006, Policy Holder ID: A945684\n",
      "- Claim ID: claim-857, Policy Holder ID: A645987  \n",
      "- Claim ID: claim-334, Policy Holder ID: A987654\n"
     ]
    },
    {
     "data": {
      "text/plain": [
       "{'chunk': {'bytes': b'The open insurance claims are:\\n\\n- Claim ID: claim-006, Policy Holder ID: A945684\\n- Claim ID: claim-857, Policy Holder ID: A645987  \\n- Claim ID: claim-334, Policy Holder ID: A987654'}}"
      ]
     },
     "execution_count": 37,
     "metadata": {},
     "output_type": "execute_result"
    }
   ],
   "source": [
    "## create a random id for session initiator id\n",
    "session_id:str = str(uuid.uuid1())\n",
    "enable_trace:bool = False\n",
    "end_session:bool = False\n",
    "\n",
    "simple_agent_invoke(\"what are the open claims?\", agent_id, agent_alias_id, session_id)"
   ]
  },
  {
   "cell_type": "markdown",
   "id": "bb157983",
   "metadata": {},
   "source": [
    "## Invoke the Agent for an API that has User Confirmation Enabled"
   ]
  },
  {
   "cell_type": "code",
   "execution_count": 38,
   "id": "5c6d6869",
   "metadata": {
    "tags": []
   },
   "outputs": [
    {
     "name": "stdout",
     "output_type": "stream",
     "text": [
      "{'returnControl': {'invocationId': '3b8f0f5b-6656-4a23-b659-1c8ec1524672-uc',\n",
      "                   'invocationInputs': [{'apiInvocationInput': {'actionGroup': 'ClaimManagementActionGroup',\n",
      "                                                                'actionInvocationType': 'USER_CONFIRMATION',\n",
      "                                                                'apiPath': '/notify',\n",
      "                                                                'httpMethod': 'POST',\n",
      "                                                                'parameters': [],\n",
      "                                                                'requestBody': {'content': {'application/json': {'properties': [{'name': 'claimId',\n",
      "                                                                                                                                 'type': 'string',\n",
      "                                                                                                                                 'value': 'claim-006'},\n",
      "                                                                                                                                {'name': 'pendingDocuments',\n",
      "                                                                                                                                 'type': 'array',\n",
      "                                                                                                                                 'value': '<item><key>AccidentImages</key><value>Please '\n",
      "                                                                                                                                          'upload '\n",
      "                                                                                                                                          'images '\n",
      "                                                                                                                                          'of '\n",
      "                                                                                                                                          'the '\n",
      "                                                                                                                                          'accident '\n",
      "                                                                                                                                          'scene</value></item>'}]}}}}}]}}\n"
     ]
    }
   ],
   "source": [
    "## create a random id for session initiator id\n",
    "session_id:str = str(uuid.uuid1())\n",
    "enable_trace:bool = False\n",
    "end_session:bool = False\n",
    "\n",
    "event = simple_agent_invoke(\"Please send a reminder to the insured about claim claim-006 only. Please reply indicating whether the reminder was sent or not\", agent_id, agent_alias_id, session_id)"
   ]
  },
  {
   "cell_type": "markdown",
   "id": "5ecf4b30",
   "metadata": {},
   "source": [
    "## Invoking the Agent with the function results and Allowed execution\n",
    "\n",
    "Finally, we need to invoke the agent passing the function results as a parameter. This lets us use the agent for generating the final response. Note that if user confirmation is enabled for the function or API, the user will be presented with the option to `CONFIRM` or `DENY` the action specified in the response, within the `confirmationState` field. For this example, we will use the `confirmationState` as CONFIRM, which means that the user has confirmed the action, allowing it to be executed."
   ]
  },
  {
   "cell_type": "code",
   "execution_count": 39,
   "id": "36d401ef",
   "metadata": {
    "tags": []
   },
   "outputs": [
    {
     "name": "stdout",
     "output_type": "stream",
     "text": [
      "{'ResponseMetadata': {'RequestId': '8b897ce8-082d-4337-85c4-ddab19667504', 'HTTPStatusCode': 200, 'HTTPHeaders': {'date': 'Fri, 22 Nov 2024 16:44:04 GMT', 'content-type': 'application/vnd.amazon.eventstream', 'transfer-encoding': 'chunked', 'connection': 'keep-alive', 'x-amzn-requestid': '8b897ce8-082d-4337-85c4-ddab19667504', 'x-amz-bedrock-agent-session-id': 'f9023058-a8f0-11ef-ab73-52a1e22075a3', 'x-amzn-bedrock-agent-content-type': 'application/json'}, 'RetryAttempts': 0}, 'contentType': 'application/json', 'sessionId': 'f9023058-a8f0-11ef-ab73-52a1e22075a3', 'completion': <botocore.eventstream.EventStream object at 0x7fa748c50510>}\n"
     ]
    }
   ],
   "source": [
    "raw_response_with_allowed = bedrock_agent_runtime_client.invoke_agent(\n",
    "    agentId=agent_id,\n",
    "    agentAliasId=agent_alias_id, \n",
    "    sessionId=session_id,\n",
    "    enableTrace=enable_trace, \n",
    "    sessionState={\n",
    "        'invocationId': event[\"returnControl\"][\"invocationId\"],\n",
    "        'returnControlInvocationResults': [{\n",
    "                'apiResult': {\n",
    "                    'actionGroup': event[\"returnControl\"][\"invocationInputs\"][0][\"apiInvocationInput\"][\"actionGroup\"],\n",
    "                    'apiPath': event[\"returnControl\"][\"invocationInputs\"][0][\"apiInvocationInput\"][\"apiPath\"],\n",
    "                    'confirmationState': 'CONFIRM',\n",
    "                    'httpMethod': event[\"returnControl\"][\"invocationInputs\"][0][\"apiInvocationInput\"][\"httpMethod\"],\n",
    "                    'httpStatusCode': 200,\n",
    "                    'responseBody': {\n",
    "                        \"TEXT\": {\n",
    "                            'body': ''\n",
    "                        }\n",
    "                    }\n",
    "                }\n",
    "        }]}\n",
    ")\n",
    "\n",
    "print(raw_response_with_allowed)"
   ]
  },
  {
   "cell_type": "code",
   "execution_count": 40,
   "id": "096ce7ba",
   "metadata": {
    "tags": []
   },
   "outputs": [
    {
     "name": "stdout",
     "output_type": "stream",
     "text": [
      "{'chunk': {'bytes': b'The reminder for claim claim-006 to submit the pending document AccidentImages was sent successfully. The tracking ID for the reminder is 50e8400-e29b-41d4-a716-446655440000.'}}\n",
      "CPU times: user 2.11 ms, sys: 300 μs, total: 2.41 ms\n",
      "Wall time: 1.72 s\n"
     ]
    }
   ],
   "source": [
    "%%time\n",
    "event_stream = raw_response_with_allowed['completion']\n",
    "for event_allowed in event_stream:\n",
    "    print(event_allowed)"
   ]
  },
  {
   "cell_type": "markdown",
   "id": "a753c0c9",
   "metadata": {},
   "source": [
    "## Invoking an Agent with function results and execution is NOT allowed"
   ]
  },
  {
   "cell_type": "markdown",
   "id": "8eaa0452",
   "metadata": {},
   "source": [
    "As shown in the previous example, we are going to call the same method `invoke_agent`, but this time we will pass the option as `DENY`, which means the user did not permit the execution."
   ]
  },
  {
   "cell_type": "code",
   "execution_count": 41,
   "id": "79cbbc32",
   "metadata": {
    "tags": []
   },
   "outputs": [
    {
     "name": "stdout",
     "output_type": "stream",
     "text": [
      "{'ResponseMetadata': {'RequestId': '763f9ff8-983d-49fc-a248-d655b2efd0e2', 'HTTPStatusCode': 200, 'HTTPHeaders': {'date': 'Fri, 22 Nov 2024 16:44:06 GMT', 'content-type': 'application/vnd.amazon.eventstream', 'transfer-encoding': 'chunked', 'connection': 'keep-alive', 'x-amzn-requestid': '763f9ff8-983d-49fc-a248-d655b2efd0e2', 'x-amz-bedrock-agent-session-id': 'f9023058-a8f0-11ef-ab73-52a1e22075a3', 'x-amzn-bedrock-agent-content-type': 'application/json'}, 'RetryAttempts': 0}, 'contentType': 'application/json', 'sessionId': 'f9023058-a8f0-11ef-ab73-52a1e22075a3', 'completion': <botocore.eventstream.EventStream object at 0x7fa765d89a50>}\n"
     ]
    }
   ],
   "source": [
    "raw_response_with_not_allowed = bedrock_agent_runtime_client.invoke_agent(\n",
    "    agentId=agent_id,\n",
    "    agentAliasId=agent_alias_id, \n",
    "    sessionId=session_id,\n",
    "    enableTrace=enable_trace, \n",
    "    sessionState={\n",
    "        'invocationId': event[\"returnControl\"][\"invocationId\"],\n",
    "        'returnControlInvocationResults': [{\n",
    "                'apiResult': {\n",
    "                    'actionGroup': event[\"returnControl\"][\"invocationInputs\"][0][\"apiInvocationInput\"][\"actionGroup\"],\n",
    "                    'apiPath': event[\"returnControl\"][\"invocationInputs\"][0][\"apiInvocationInput\"][\"apiPath\"],\n",
    "                    'confirmationState': 'DENY',\n",
    "                    'httpMethod': event[\"returnControl\"][\"invocationInputs\"][0][\"apiInvocationInput\"][\"httpMethod\"],\n",
    "                    'httpStatusCode': 200,\n",
    "                    'responseBody': {\n",
    "                        \"TEXT\": {\n",
    "                            'body': ''\n",
    "                        }\n",
    "                    }\n",
    "                }\n",
    "        }]}\n",
    ")\n",
    "\n",
    "print(raw_response_with_not_allowed)"
   ]
  },
  {
   "cell_type": "code",
   "execution_count": 43,
   "id": "8bbc254a",
   "metadata": {
    "tags": []
   },
   "outputs": [
    {
     "name": "stdout",
     "output_type": "stream",
     "text": [
      "CPU times: user 289 μs, sys: 40 μs, total: 329 μs\n",
      "Wall time: 266 μs\n"
     ]
    }
   ],
   "source": [
    "%%time\n",
    "event_stream = raw_response_with_not_allowed['completion']\n",
    "for event_not_allowed in event_stream:\n",
    "    print(event_not_allowed)"
   ]
  },
  {
   "cell_type": "markdown",
   "id": "851fcf76",
   "metadata": {},
   "source": [
    "After sending the `DENY` option in the `confirmationState`, you should receive the following message:\n",
    "\n",
    "`Unfortunately, I was unable to send the reminder for claim claim-006 due to an access issue.`"
   ]
  },
  {
   "cell_type": "markdown",
   "id": "cc47a158-34d0-436f-832f-774482a5275d",
   "metadata": {},
   "source": [
    "### Clean up (optional)\n",
    "The next steps are optional and demonstrate how to delete our agent. To delete the agent we need to:\n",
    "1. update the action group to disable it\n",
    "2. delete agent action group\n",
    "3. delete agent alias\n",
    "4. delete agent\n",
    "5. delete lambda function\n",
    "6. empty created s3 bucket\n",
    "7. delete s3 bucket"
   ]
  },
  {
   "cell_type": "code",
   "execution_count": null,
   "id": "0d06b9fa-9510-4702-8321-e3c3a8a161f6",
   "metadata": {
    "tags": []
   },
   "outputs": [],
   "source": [
    " # This is not needed, you can delete agent successfully after deleting alias only\n",
    "# Additionaly, you need to disable it first\n",
    "\n",
    "action_group_id = agent_action_group_response['agentActionGroup']['actionGroupId']\n",
    "action_group_name = agent_action_group_response['agentActionGroup']['actionGroupName']\n",
    "\n",
    "response = bedrock_agent_client.update_agent_action_group(\n",
    "    agentId=agent_id,\n",
    "    agentVersion='DRAFT',\n",
    "    actionGroupId= action_group_id,\n",
    "    actionGroupName=action_group_name,\n",
    "    actionGroupExecutor={\n",
    "        'lambda': lambda_function['FunctionArn']\n",
    "    },\n",
    "    apiSchema={\n",
    "        's3': {\n",
    "            's3BucketName': bucket_name,\n",
    "            's3ObjectKey': bucket_key\n",
    "        }\n",
    "    },\n",
    "    actionGroupState='DISABLED',\n",
    ")\n",
    "\n",
    "action_group_deletion = bedrock_agent_client.delete_agent_action_group(\n",
    "    agentId=agent_id,\n",
    "    agentVersion='DRAFT',\n",
    "    actionGroupId= action_group_id\n",
    ")"
   ]
  },
  {
   "cell_type": "code",
   "execution_count": null,
   "id": "f5f9dfae-aae2-4384-b2af-747a4a553e76",
   "metadata": {
    "tags": []
   },
   "outputs": [],
   "source": [
    "agent_alias_deletion = bedrock_agent_client.delete_agent_alias(\n",
    "    agentId=agent_id,\n",
    "    agentAliasId=agent_alias['agentAlias']['agentAliasId']\n",
    ")"
   ]
  },
  {
   "cell_type": "code",
   "execution_count": null,
   "id": "6ada8823-cfc2-4e41-9e20-90a88705bcf5",
   "metadata": {
    "tags": []
   },
   "outputs": [],
   "source": [
    "agent_deletion = bedrock_agent_client.delete_agent(\n",
    "    agentId=agent_id\n",
    ")"
   ]
  },
  {
   "cell_type": "code",
   "execution_count": null,
   "id": "f023d291-220d-48f9-8e5d-0d9e3f93861e",
   "metadata": {
    "tags": []
   },
   "outputs": [],
   "source": [
    "# Delete Lambda function\n",
    "lambda_client.delete_function(\n",
    "    FunctionName=lambda_name\n",
    ")"
   ]
  },
  {
   "cell_type": "code",
   "execution_count": null,
   "id": "a33a1470-0927-4217-bb5e-4a5fb9abdaf1",
   "metadata": {
    "tags": []
   },
   "outputs": [],
   "source": [
    "# Empty and delete S3 Bucket\n",
    "\n",
    "objects = s3_client.list_objects(Bucket=bucket_name)  \n",
    "if 'Contents' in objects:\n",
    "    for obj in objects['Contents']:\n",
    "        s3_client.delete_object(Bucket=bucket_name, Key=obj['Key']) \n",
    "s3_client.delete_bucket(Bucket=bucket_name)"
   ]
  },
  {
   "cell_type": "code",
   "execution_count": null,
   "id": "d50707a8-afd9-4af8-9ee3-1927afde9ce6",
   "metadata": {
    "tags": []
   },
   "outputs": [],
   "source": [
    "# Delete IAM Roles and policies\n",
    "\n",
    "for policy in [bedrock_agent_bedrock_allow_policy_name, bedrock_agent_s3_allow_policy_name]:\n",
    "    iam_client.detach_role_policy(RoleName=agent_role_name, PolicyArn=f'arn:aws:iam::{account_id}:policy/{policy}')\n",
    "    \n",
    "iam_client.detach_role_policy(RoleName=lambda_role_name, PolicyArn='arn:aws:iam::aws:policy/service-role/AWSLambdaBasicExecutionRole')\n",
    "\n",
    "for role_name in [agent_role_name, lambda_role_name]:\n",
    "    iam_client.delete_role(\n",
    "        RoleName=role_name\n",
    "    )\n",
    "\n",
    "for policy in [agent_bedrock_policy, agent_s3_schema_policy]:\n",
    "    iam_client.delete_policy(\n",
    "        PolicyArn=policy['Policy']['Arn']\n",
    ")"
   ]
  },
  {
   "cell_type": "markdown",
   "id": "47ce5c54-3e54-40fc-aa10-d7ec785ea832",
   "metadata": {},
   "source": [
    "## Happy coding!"
   ]
  }
 ],
 "metadata": {
  "availableInstances": [
   {
    "_defaultOrder": 0,
    "_isFastLaunch": true,
    "category": "General purpose",
    "gpuNum": 0,
    "hideHardwareSpecs": false,
    "memoryGiB": 4,
    "name": "ml.t3.medium",
    "vcpuNum": 2
   },
   {
    "_defaultOrder": 1,
    "_isFastLaunch": false,
    "category": "General purpose",
    "gpuNum": 0,
    "hideHardwareSpecs": false,
    "memoryGiB": 8,
    "name": "ml.t3.large",
    "vcpuNum": 2
   },
   {
    "_defaultOrder": 2,
    "_isFastLaunch": false,
    "category": "General purpose",
    "gpuNum": 0,
    "hideHardwareSpecs": false,
    "memoryGiB": 16,
    "name": "ml.t3.xlarge",
    "vcpuNum": 4
   },
   {
    "_defaultOrder": 3,
    "_isFastLaunch": false,
    "category": "General purpose",
    "gpuNum": 0,
    "hideHardwareSpecs": false,
    "memoryGiB": 32,
    "name": "ml.t3.2xlarge",
    "vcpuNum": 8
   },
   {
    "_defaultOrder": 4,
    "_isFastLaunch": true,
    "category": "General purpose",
    "gpuNum": 0,
    "hideHardwareSpecs": false,
    "memoryGiB": 8,
    "name": "ml.m5.large",
    "vcpuNum": 2
   },
   {
    "_defaultOrder": 5,
    "_isFastLaunch": false,
    "category": "General purpose",
    "gpuNum": 0,
    "hideHardwareSpecs": false,
    "memoryGiB": 16,
    "name": "ml.m5.xlarge",
    "vcpuNum": 4
   },
   {
    "_defaultOrder": 6,
    "_isFastLaunch": false,
    "category": "General purpose",
    "gpuNum": 0,
    "hideHardwareSpecs": false,
    "memoryGiB": 32,
    "name": "ml.m5.2xlarge",
    "vcpuNum": 8
   },
   {
    "_defaultOrder": 7,
    "_isFastLaunch": false,
    "category": "General purpose",
    "gpuNum": 0,
    "hideHardwareSpecs": false,
    "memoryGiB": 64,
    "name": "ml.m5.4xlarge",
    "vcpuNum": 16
   },
   {
    "_defaultOrder": 8,
    "_isFastLaunch": false,
    "category": "General purpose",
    "gpuNum": 0,
    "hideHardwareSpecs": false,
    "memoryGiB": 128,
    "name": "ml.m5.8xlarge",
    "vcpuNum": 32
   },
   {
    "_defaultOrder": 9,
    "_isFastLaunch": false,
    "category": "General purpose",
    "gpuNum": 0,
    "hideHardwareSpecs": false,
    "memoryGiB": 192,
    "name": "ml.m5.12xlarge",
    "vcpuNum": 48
   },
   {
    "_defaultOrder": 10,
    "_isFastLaunch": false,
    "category": "General purpose",
    "gpuNum": 0,
    "hideHardwareSpecs": false,
    "memoryGiB": 256,
    "name": "ml.m5.16xlarge",
    "vcpuNum": 64
   },
   {
    "_defaultOrder": 11,
    "_isFastLaunch": false,
    "category": "General purpose",
    "gpuNum": 0,
    "hideHardwareSpecs": false,
    "memoryGiB": 384,
    "name": "ml.m5.24xlarge",
    "vcpuNum": 96
   },
   {
    "_defaultOrder": 12,
    "_isFastLaunch": false,
    "category": "General purpose",
    "gpuNum": 0,
    "hideHardwareSpecs": false,
    "memoryGiB": 8,
    "name": "ml.m5d.large",
    "vcpuNum": 2
   },
   {
    "_defaultOrder": 13,
    "_isFastLaunch": false,
    "category": "General purpose",
    "gpuNum": 0,
    "hideHardwareSpecs": false,
    "memoryGiB": 16,
    "name": "ml.m5d.xlarge",
    "vcpuNum": 4
   },
   {
    "_defaultOrder": 14,
    "_isFastLaunch": false,
    "category": "General purpose",
    "gpuNum": 0,
    "hideHardwareSpecs": false,
    "memoryGiB": 32,
    "name": "ml.m5d.2xlarge",
    "vcpuNum": 8
   },
   {
    "_defaultOrder": 15,
    "_isFastLaunch": false,
    "category": "General purpose",
    "gpuNum": 0,
    "hideHardwareSpecs": false,
    "memoryGiB": 64,
    "name": "ml.m5d.4xlarge",
    "vcpuNum": 16
   },
   {
    "_defaultOrder": 16,
    "_isFastLaunch": false,
    "category": "General purpose",
    "gpuNum": 0,
    "hideHardwareSpecs": false,
    "memoryGiB": 128,
    "name": "ml.m5d.8xlarge",
    "vcpuNum": 32
   },
   {
    "_defaultOrder": 17,
    "_isFastLaunch": false,
    "category": "General purpose",
    "gpuNum": 0,
    "hideHardwareSpecs": false,
    "memoryGiB": 192,
    "name": "ml.m5d.12xlarge",
    "vcpuNum": 48
   },
   {
    "_defaultOrder": 18,
    "_isFastLaunch": false,
    "category": "General purpose",
    "gpuNum": 0,
    "hideHardwareSpecs": false,
    "memoryGiB": 256,
    "name": "ml.m5d.16xlarge",
    "vcpuNum": 64
   },
   {
    "_defaultOrder": 19,
    "_isFastLaunch": false,
    "category": "General purpose",
    "gpuNum": 0,
    "hideHardwareSpecs": false,
    "memoryGiB": 384,
    "name": "ml.m5d.24xlarge",
    "vcpuNum": 96
   },
   {
    "_defaultOrder": 20,
    "_isFastLaunch": false,
    "category": "General purpose",
    "gpuNum": 0,
    "hideHardwareSpecs": true,
    "memoryGiB": 0,
    "name": "ml.geospatial.interactive",
    "supportedImageNames": [
     "sagemaker-geospatial-v1-0"
    ],
    "vcpuNum": 0
   },
   {
    "_defaultOrder": 21,
    "_isFastLaunch": true,
    "category": "Compute optimized",
    "gpuNum": 0,
    "hideHardwareSpecs": false,
    "memoryGiB": 4,
    "name": "ml.c5.large",
    "vcpuNum": 2
   },
   {
    "_defaultOrder": 22,
    "_isFastLaunch": false,
    "category": "Compute optimized",
    "gpuNum": 0,
    "hideHardwareSpecs": false,
    "memoryGiB": 8,
    "name": "ml.c5.xlarge",
    "vcpuNum": 4
   },
   {
    "_defaultOrder": 23,
    "_isFastLaunch": false,
    "category": "Compute optimized",
    "gpuNum": 0,
    "hideHardwareSpecs": false,
    "memoryGiB": 16,
    "name": "ml.c5.2xlarge",
    "vcpuNum": 8
   },
   {
    "_defaultOrder": 24,
    "_isFastLaunch": false,
    "category": "Compute optimized",
    "gpuNum": 0,
    "hideHardwareSpecs": false,
    "memoryGiB": 32,
    "name": "ml.c5.4xlarge",
    "vcpuNum": 16
   },
   {
    "_defaultOrder": 25,
    "_isFastLaunch": false,
    "category": "Compute optimized",
    "gpuNum": 0,
    "hideHardwareSpecs": false,
    "memoryGiB": 72,
    "name": "ml.c5.9xlarge",
    "vcpuNum": 36
   },
   {
    "_defaultOrder": 26,
    "_isFastLaunch": false,
    "category": "Compute optimized",
    "gpuNum": 0,
    "hideHardwareSpecs": false,
    "memoryGiB": 96,
    "name": "ml.c5.12xlarge",
    "vcpuNum": 48
   },
   {
    "_defaultOrder": 27,
    "_isFastLaunch": false,
    "category": "Compute optimized",
    "gpuNum": 0,
    "hideHardwareSpecs": false,
    "memoryGiB": 144,
    "name": "ml.c5.18xlarge",
    "vcpuNum": 72
   },
   {
    "_defaultOrder": 28,
    "_isFastLaunch": false,
    "category": "Compute optimized",
    "gpuNum": 0,
    "hideHardwareSpecs": false,
    "memoryGiB": 192,
    "name": "ml.c5.24xlarge",
    "vcpuNum": 96
   },
   {
    "_defaultOrder": 29,
    "_isFastLaunch": true,
    "category": "Accelerated computing",
    "gpuNum": 1,
    "hideHardwareSpecs": false,
    "memoryGiB": 16,
    "name": "ml.g4dn.xlarge",
    "vcpuNum": 4
   },
   {
    "_defaultOrder": 30,
    "_isFastLaunch": false,
    "category": "Accelerated computing",
    "gpuNum": 1,
    "hideHardwareSpecs": false,
    "memoryGiB": 32,
    "name": "ml.g4dn.2xlarge",
    "vcpuNum": 8
   },
   {
    "_defaultOrder": 31,
    "_isFastLaunch": false,
    "category": "Accelerated computing",
    "gpuNum": 1,
    "hideHardwareSpecs": false,
    "memoryGiB": 64,
    "name": "ml.g4dn.4xlarge",
    "vcpuNum": 16
   },
   {
    "_defaultOrder": 32,
    "_isFastLaunch": false,
    "category": "Accelerated computing",
    "gpuNum": 1,
    "hideHardwareSpecs": false,
    "memoryGiB": 128,
    "name": "ml.g4dn.8xlarge",
    "vcpuNum": 32
   },
   {
    "_defaultOrder": 33,
    "_isFastLaunch": false,
    "category": "Accelerated computing",
    "gpuNum": 4,
    "hideHardwareSpecs": false,
    "memoryGiB": 192,
    "name": "ml.g4dn.12xlarge",
    "vcpuNum": 48
   },
   {
    "_defaultOrder": 34,
    "_isFastLaunch": false,
    "category": "Accelerated computing",
    "gpuNum": 1,
    "hideHardwareSpecs": false,
    "memoryGiB": 256,
    "name": "ml.g4dn.16xlarge",
    "vcpuNum": 64
   },
   {
    "_defaultOrder": 35,
    "_isFastLaunch": false,
    "category": "Accelerated computing",
    "gpuNum": 1,
    "hideHardwareSpecs": false,
    "memoryGiB": 61,
    "name": "ml.p3.2xlarge",
    "vcpuNum": 8
   },
   {
    "_defaultOrder": 36,
    "_isFastLaunch": false,
    "category": "Accelerated computing",
    "gpuNum": 4,
    "hideHardwareSpecs": false,
    "memoryGiB": 244,
    "name": "ml.p3.8xlarge",
    "vcpuNum": 32
   },
   {
    "_defaultOrder": 37,
    "_isFastLaunch": false,
    "category": "Accelerated computing",
    "gpuNum": 8,
    "hideHardwareSpecs": false,
    "memoryGiB": 488,
    "name": "ml.p3.16xlarge",
    "vcpuNum": 64
   },
   {
    "_defaultOrder": 38,
    "_isFastLaunch": false,
    "category": "Accelerated computing",
    "gpuNum": 8,
    "hideHardwareSpecs": false,
    "memoryGiB": 768,
    "name": "ml.p3dn.24xlarge",
    "vcpuNum": 96
   },
   {
    "_defaultOrder": 39,
    "_isFastLaunch": false,
    "category": "Memory Optimized",
    "gpuNum": 0,
    "hideHardwareSpecs": false,
    "memoryGiB": 16,
    "name": "ml.r5.large",
    "vcpuNum": 2
   },
   {
    "_defaultOrder": 40,
    "_isFastLaunch": false,
    "category": "Memory Optimized",
    "gpuNum": 0,
    "hideHardwareSpecs": false,
    "memoryGiB": 32,
    "name": "ml.r5.xlarge",
    "vcpuNum": 4
   },
   {
    "_defaultOrder": 41,
    "_isFastLaunch": false,
    "category": "Memory Optimized",
    "gpuNum": 0,
    "hideHardwareSpecs": false,
    "memoryGiB": 64,
    "name": "ml.r5.2xlarge",
    "vcpuNum": 8
   },
   {
    "_defaultOrder": 42,
    "_isFastLaunch": false,
    "category": "Memory Optimized",
    "gpuNum": 0,
    "hideHardwareSpecs": false,
    "memoryGiB": 128,
    "name": "ml.r5.4xlarge",
    "vcpuNum": 16
   },
   {
    "_defaultOrder": 43,
    "_isFastLaunch": false,
    "category": "Memory Optimized",
    "gpuNum": 0,
    "hideHardwareSpecs": false,
    "memoryGiB": 256,
    "name": "ml.r5.8xlarge",
    "vcpuNum": 32
   },
   {
    "_defaultOrder": 44,
    "_isFastLaunch": false,
    "category": "Memory Optimized",
    "gpuNum": 0,
    "hideHardwareSpecs": false,
    "memoryGiB": 384,
    "name": "ml.r5.12xlarge",
    "vcpuNum": 48
   },
   {
    "_defaultOrder": 45,
    "_isFastLaunch": false,
    "category": "Memory Optimized",
    "gpuNum": 0,
    "hideHardwareSpecs": false,
    "memoryGiB": 512,
    "name": "ml.r5.16xlarge",
    "vcpuNum": 64
   },
   {
    "_defaultOrder": 46,
    "_isFastLaunch": false,
    "category": "Memory Optimized",
    "gpuNum": 0,
    "hideHardwareSpecs": false,
    "memoryGiB": 768,
    "name": "ml.r5.24xlarge",
    "vcpuNum": 96
   },
   {
    "_defaultOrder": 47,
    "_isFastLaunch": false,
    "category": "Accelerated computing",
    "gpuNum": 1,
    "hideHardwareSpecs": false,
    "memoryGiB": 16,
    "name": "ml.g5.xlarge",
    "vcpuNum": 4
   },
   {
    "_defaultOrder": 48,
    "_isFastLaunch": false,
    "category": "Accelerated computing",
    "gpuNum": 1,
    "hideHardwareSpecs": false,
    "memoryGiB": 32,
    "name": "ml.g5.2xlarge",
    "vcpuNum": 8
   },
   {
    "_defaultOrder": 49,
    "_isFastLaunch": false,
    "category": "Accelerated computing",
    "gpuNum": 1,
    "hideHardwareSpecs": false,
    "memoryGiB": 64,
    "name": "ml.g5.4xlarge",
    "vcpuNum": 16
   },
   {
    "_defaultOrder": 50,
    "_isFastLaunch": false,
    "category": "Accelerated computing",
    "gpuNum": 1,
    "hideHardwareSpecs": false,
    "memoryGiB": 128,
    "name": "ml.g5.8xlarge",
    "vcpuNum": 32
   },
   {
    "_defaultOrder": 51,
    "_isFastLaunch": false,
    "category": "Accelerated computing",
    "gpuNum": 1,
    "hideHardwareSpecs": false,
    "memoryGiB": 256,
    "name": "ml.g5.16xlarge",
    "vcpuNum": 64
   },
   {
    "_defaultOrder": 52,
    "_isFastLaunch": false,
    "category": "Accelerated computing",
    "gpuNum": 4,
    "hideHardwareSpecs": false,
    "memoryGiB": 192,
    "name": "ml.g5.12xlarge",
    "vcpuNum": 48
   },
   {
    "_defaultOrder": 53,
    "_isFastLaunch": false,
    "category": "Accelerated computing",
    "gpuNum": 4,
    "hideHardwareSpecs": false,
    "memoryGiB": 384,
    "name": "ml.g5.24xlarge",
    "vcpuNum": 96
   },
   {
    "_defaultOrder": 54,
    "_isFastLaunch": false,
    "category": "Accelerated computing",
    "gpuNum": 8,
    "hideHardwareSpecs": false,
    "memoryGiB": 768,
    "name": "ml.g5.48xlarge",
    "vcpuNum": 192
   },
   {
    "_defaultOrder": 55,
    "_isFastLaunch": false,
    "category": "Accelerated computing",
    "gpuNum": 8,
    "hideHardwareSpecs": false,
    "memoryGiB": 1152,
    "name": "ml.p4d.24xlarge",
    "vcpuNum": 96
   },
   {
    "_defaultOrder": 56,
    "_isFastLaunch": false,
    "category": "Accelerated computing",
    "gpuNum": 8,
    "hideHardwareSpecs": false,
    "memoryGiB": 1152,
    "name": "ml.p4de.24xlarge",
    "vcpuNum": 96
   },
   {
    "_defaultOrder": 57,
    "_isFastLaunch": false,
    "category": "Accelerated computing",
    "gpuNum": 0,
    "hideHardwareSpecs": false,
    "memoryGiB": 32,
    "name": "ml.trn1.2xlarge",
    "vcpuNum": 8
   },
   {
    "_defaultOrder": 58,
    "_isFastLaunch": false,
    "category": "Accelerated computing",
    "gpuNum": 0,
    "hideHardwareSpecs": false,
    "memoryGiB": 512,
    "name": "ml.trn1.32xlarge",
    "vcpuNum": 128
   },
   {
    "_defaultOrder": 59,
    "_isFastLaunch": false,
    "category": "Accelerated computing",
    "gpuNum": 0,
    "hideHardwareSpecs": false,
    "memoryGiB": 512,
    "name": "ml.trn1n.32xlarge",
    "vcpuNum": 128
   }
  ],
  "instance_type": "ml.t3.medium",
  "kernelspec": {
   "display_name": "Python 3 (ipykernel)",
   "language": "python",
   "name": "python3"
  },
  "language_info": {
   "codemirror_mode": {
    "name": "ipython",
    "version": 3
   },
   "file_extension": ".py",
   "mimetype": "text/x-python",
   "name": "python",
   "nbconvert_exporter": "python",
   "pygments_lexer": "ipython3",
   "version": "3.11.10"
  }
 },
 "nbformat": 4,
 "nbformat_minor": 5
}
